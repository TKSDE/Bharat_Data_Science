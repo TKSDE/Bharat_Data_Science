{
 "cells": [
  {
   "cell_type": "code",
   "execution_count": 1,
   "metadata": {},
   "outputs": [],
   "source": [
    "import pandas as pd\n",
    "import numpy as np\n",
    "from sklearn.model_selection import train_test_split\n",
    "from sklearn.neural_network import MLPClassifier, MLPRegressor\n",
    "from sklearn.preprocessing import StandardScaler\n",
    "from sklearn import metrics\n",
    "from sklearn.tree import DecisionTreeClassifier\n",
    "from sklearn.metrics import accuracy_score\n"
   ]
  },
  {
   "cell_type": "code",
   "execution_count": 3,
   "metadata": {},
   "outputs": [
    {
     "name": "stdout",
     "output_type": "stream",
     "text": [
      "gender_submission shape: (418, 2)\n",
      "test shape: (418, 11)\n",
      "train shape: (891, 12)\n",
      "gender_submission head:\n",
      "   PassengerId  Survived\n",
      "0          892         0\n",
      "1          893         1\n",
      "2          894         0\n",
      "3          895         0\n",
      "4          896         1\n",
      "test head:\n",
      "   PassengerId  Pclass                                          Name     Sex  \\\n",
      "0          892       3                              Kelly, Mr. James    male   \n",
      "1          893       3              Wilkes, Mrs. James (Ellen Needs)  female   \n",
      "2          894       2                     Myles, Mr. Thomas Francis    male   \n",
      "3          895       3                              Wirz, Mr. Albert    male   \n",
      "4          896       3  Hirvonen, Mrs. Alexander (Helga E Lindqvist)  female   \n",
      "\n",
      "    Age  SibSp  Parch   Ticket     Fare Cabin Embarked  \n",
      "0  34.5      0      0   330911   7.8292   NaN        Q  \n",
      "1  47.0      1      0   363272   7.0000   NaN        S  \n",
      "2  62.0      0      0   240276   9.6875   NaN        Q  \n",
      "3  27.0      0      0   315154   8.6625   NaN        S  \n",
      "4  22.0      1      1  3101298  12.2875   NaN        S  \n",
      "train head:\n",
      "   PassengerId  Survived  Pclass  \\\n",
      "0            1         0       3   \n",
      "1            2         1       1   \n",
      "2            3         1       3   \n",
      "3            4         1       1   \n",
      "4            5         0       3   \n",
      "\n",
      "                                                Name     Sex   Age  SibSp  \\\n",
      "0                            Braund, Mr. Owen Harris    male  22.0      1   \n",
      "1  Cumings, Mrs. John Bradley (Florence Briggs Th...  female  38.0      1   \n",
      "2                             Heikkinen, Miss. Laina  female  26.0      0   \n",
      "3       Futrelle, Mrs. Jacques Heath (Lily May Peel)  female  35.0      1   \n",
      "4                           Allen, Mr. William Henry    male  35.0      0   \n",
      "\n",
      "   Parch            Ticket     Fare Cabin Embarked  \n",
      "0      0         A/5 21171   7.2500   NaN        S  \n",
      "1      0          PC 17599  71.2833   C85        C  \n",
      "2      0  STON/O2. 3101282   7.9250   NaN        S  \n",
      "3      0            113803  53.1000  C123        S  \n",
      "4      0            373450   8.0500   NaN        S  \n"
     ]
    }
   ],
   "source": [
    "# Read the CSV files\n",
    "gender_submission_df = pd.read_csv('./gender_submission.csv')\n",
    "test_df = pd.read_csv('./test.csv')\n",
    "train_df = pd.read_csv('./train.csv')\n",
    "\n",
    "# Print the shape of each DataFrame\n",
    "print(\"gender_submission shape:\", gender_submission_df.shape)\n",
    "print(\"test shape:\", test_df.shape)\n",
    "print(\"train shape:\", train_df.shape)\n",
    "\n",
    "# Display the first few rows of each DataFrame\n",
    "print(\"gender_submission head:\")\n",
    "print(gender_submission_df.head())\n",
    "\n",
    "print(\"test head:\")\n",
    "print(test_df.head())\n",
    "\n",
    "print(\"train head:\")\n",
    "print(train_df.head())\n",
    "#df = pd.read_csv('./gender_submission.csv''./test.csv''./train.csv')\n",
    "#print(df.shape)\n",
    "#df.head()"
   ]
  },
  {
   "cell_type": "code",
   "execution_count": 5,
   "metadata": {},
   "outputs": [
    {
     "name": "stdout",
     "output_type": "stream",
     "text": [
      "(714, 12)\n"
     ]
    }
   ],
   "source": [
    "# Drop rows with missing values in specific columns\n",
    "columns_to_check = ['Survived', 'Pclass', 'Age', 'SibSp', 'Parch', 'Fare']\n",
    "df = train_df.dropna(subset=columns_to_check)\n",
    "\n",
    "# Display the shape of the resulting DataFrame\n",
    "print(df.shape)\n"
   ]
  },
  {
   "cell_type": "code",
   "execution_count": 7,
   "metadata": {},
   "outputs": [
    {
     "name": "stdout",
     "output_type": "stream",
     "text": [
      "        PassengerId  Survived  \\\n",
      "Pclass                          \n",
      "1             86297       122   \n",
      "2             77358        83   \n",
      "3            156633        85   \n",
      "\n",
      "                                                     Name  \\\n",
      "Pclass                                                      \n",
      "1       Cumings, Mrs. John Bradley (Florence Briggs Th...   \n",
      "2       Nasser, Mrs. Nicholas (Adele Achem)Hewlett, Mr...   \n",
      "3       Braund, Mr. Owen HarrisHeikkinen, Miss. LainaA...   \n",
      "\n",
      "                                                      Sex      Age  SibSp  \\\n",
      "Pclass                                                                      \n",
      "1       femalefemalemalefemalemalemalemalemalemalefema...  7111.42     84   \n",
      "2       femalefemalemalemalemalefemalefemalefemalefema...  5168.83     74   \n",
      "3       malefemalemalemalefemalefemalemalemalefemalema...  8924.92    208   \n",
      "\n",
      "        Parch                                             Ticket        Fare  \\\n",
      "Pclass                                                                         \n",
      "1          76  PC 175991138031746311378311378819950PC 17601PC...  16360.8543   \n",
      "2          70  237736248706239865248698C.A. 2457911668SC/Pari...   3714.5792   \n",
      "3         162  A/5 21171STON/O2. 3101282373450349909347742PP ...   4696.4495   \n",
      "\n",
      "                                                    Cabin  \\\n",
      "Pclass                                                      \n",
      "1       C85C123E46C103A6C23 C25 C27D33B30B28C83C23 C25...   \n",
      "2                    D56F33E101F2F4F2DDF2F33DF33F4E101E77   \n",
      "3                      G6F G73G6G6G6E10F G63F G73E121E121   \n",
      "\n",
      "                                                 Embarked  \n",
      "Pclass                                                     \n",
      "1       CSSSSSCCSCCSSSSCCSSCSSSCSCSCCSCCCCCSSQSSSCSSSS...  \n",
      "2       CSSSSSCSSSSSSSSSSSSCSSSCSSSSSSSSSSSSSSSSSSSSSS...  \n",
      "3       SSSSSSSSSQSQSSSSCSQSSSCSCSSSSSCSSSSSSSSSSSSSSS...  \n"
     ]
    }
   ],
   "source": [
    "# Assuming 'Pclass' is equivalent to 'ticketclass'\n",
    "grouped = df.groupby('Pclass').sum()\n",
    "\n",
    "# Display the grouped data\n",
    "print(grouped)\n"
   ]
  },
  {
   "cell_type": "code",
   "execution_count": 33,
   "metadata": {},
   "outputs": [
    {
     "data": {
      "text/html": [
       "<div>\n",
       "<style scoped>\n",
       "    .dataframe tbody tr th:only-of-type {\n",
       "        vertical-align: middle;\n",
       "    }\n",
       "\n",
       "    .dataframe tbody tr th {\n",
       "        vertical-align: top;\n",
       "    }\n",
       "\n",
       "    .dataframe thead th {\n",
       "        text-align: right;\n",
       "    }\n",
       "</style>\n",
       "<table border=\"1\" class=\"dataframe\">\n",
       "  <thead>\n",
       "    <tr style=\"text-align: right;\">\n",
       "      <th></th>\n",
       "      <th>PassengerId</th>\n",
       "      <th>Survived</th>\n",
       "      <th>Name</th>\n",
       "      <th>Age</th>\n",
       "      <th>SibSp</th>\n",
       "      <th>Parch</th>\n",
       "      <th>Ticket</th>\n",
       "      <th>Fare</th>\n",
       "      <th>Cabin</th>\n",
       "      <th>Embarked</th>\n",
       "      <th>Pclass_2</th>\n",
       "      <th>Pclass_3</th>\n",
       "      <th>Sex_male</th>\n",
       "    </tr>\n",
       "  </thead>\n",
       "  <tbody>\n",
       "    <tr>\n",
       "      <th>0</th>\n",
       "      <td>1</td>\n",
       "      <td>0</td>\n",
       "      <td>Braund, Mr. Owen Harris</td>\n",
       "      <td>22.0</td>\n",
       "      <td>1</td>\n",
       "      <td>0</td>\n",
       "      <td>A/5 21171</td>\n",
       "      <td>7.2500</td>\n",
       "      <td>NaN</td>\n",
       "      <td>S</td>\n",
       "      <td>False</td>\n",
       "      <td>True</td>\n",
       "      <td>True</td>\n",
       "    </tr>\n",
       "    <tr>\n",
       "      <th>1</th>\n",
       "      <td>2</td>\n",
       "      <td>1</td>\n",
       "      <td>Cumings, Mrs. John Bradley (Florence Briggs Th...</td>\n",
       "      <td>38.0</td>\n",
       "      <td>1</td>\n",
       "      <td>0</td>\n",
       "      <td>PC 17599</td>\n",
       "      <td>71.2833</td>\n",
       "      <td>C85</td>\n",
       "      <td>C</td>\n",
       "      <td>False</td>\n",
       "      <td>False</td>\n",
       "      <td>False</td>\n",
       "    </tr>\n",
       "    <tr>\n",
       "      <th>2</th>\n",
       "      <td>3</td>\n",
       "      <td>1</td>\n",
       "      <td>Heikkinen, Miss. Laina</td>\n",
       "      <td>26.0</td>\n",
       "      <td>0</td>\n",
       "      <td>0</td>\n",
       "      <td>STON/O2. 3101282</td>\n",
       "      <td>7.9250</td>\n",
       "      <td>NaN</td>\n",
       "      <td>S</td>\n",
       "      <td>False</td>\n",
       "      <td>True</td>\n",
       "      <td>False</td>\n",
       "    </tr>\n",
       "    <tr>\n",
       "      <th>3</th>\n",
       "      <td>4</td>\n",
       "      <td>1</td>\n",
       "      <td>Futrelle, Mrs. Jacques Heath (Lily May Peel)</td>\n",
       "      <td>35.0</td>\n",
       "      <td>1</td>\n",
       "      <td>0</td>\n",
       "      <td>113803</td>\n",
       "      <td>53.1000</td>\n",
       "      <td>C123</td>\n",
       "      <td>S</td>\n",
       "      <td>False</td>\n",
       "      <td>False</td>\n",
       "      <td>False</td>\n",
       "    </tr>\n",
       "    <tr>\n",
       "      <th>4</th>\n",
       "      <td>5</td>\n",
       "      <td>0</td>\n",
       "      <td>Allen, Mr. William Henry</td>\n",
       "      <td>35.0</td>\n",
       "      <td>0</td>\n",
       "      <td>0</td>\n",
       "      <td>373450</td>\n",
       "      <td>8.0500</td>\n",
       "      <td>NaN</td>\n",
       "      <td>S</td>\n",
       "      <td>False</td>\n",
       "      <td>True</td>\n",
       "      <td>True</td>\n",
       "    </tr>\n",
       "  </tbody>\n",
       "</table>\n",
       "</div>"
      ],
      "text/plain": [
       "   PassengerId  Survived                                               Name  \\\n",
       "0            1         0                            Braund, Mr. Owen Harris   \n",
       "1            2         1  Cumings, Mrs. John Bradley (Florence Briggs Th...   \n",
       "2            3         1                             Heikkinen, Miss. Laina   \n",
       "3            4         1       Futrelle, Mrs. Jacques Heath (Lily May Peel)   \n",
       "4            5         0                           Allen, Mr. William Henry   \n",
       "\n",
       "    Age  SibSp  Parch            Ticket     Fare Cabin Embarked  Pclass_2  \\\n",
       "0  22.0      1      0         A/5 21171   7.2500   NaN        S     False   \n",
       "1  38.0      1      0          PC 17599  71.2833   C85        C     False   \n",
       "2  26.0      0      0  STON/O2. 3101282   7.9250   NaN        S     False   \n",
       "3  35.0      1      0            113803  53.1000  C123        S     False   \n",
       "4  35.0      0      0            373450   8.0500   NaN        S     False   \n",
       "\n",
       "   Pclass_3  Sex_male  \n",
       "0      True      True  \n",
       "1     False     False  \n",
       "2      True     False  \n",
       "3     False     False  \n",
       "4      True      True  "
      ]
     },
     "execution_count": 33,
     "metadata": {},
     "output_type": "execute_result"
    }
   ],
   "source": [
    "# Assuming 'Pclass' is equivalent to 'class'\n",
    "df = pd.get_dummies(df, columns=['Pclass', 'Sex'], drop_first=True)\n",
    "\n",
    "# Display the first few rows of the DataFrame\n",
    "df.head()\n"
   ]
  },
  {
   "cell_type": "code",
   "execution_count": 60,
   "metadata": {},
   "outputs": [],
   "source": [
    "y = df['Survived']  # Correct column name\n",
    "x = df.drop(['Survived'], axis=1)  # Drop the 'Survived' column and use the rest as features\n",
    "\n",
    "xtrain, xtest, ytrain, ytest = train_test_split(x, y, random_state=10)\n"
   ]
  },
  {
   "cell_type": "code",
   "execution_count": 93,
   "metadata": {},
   "outputs": [],
   "source": [
    "# Assuming you have one-hot encoded columns 'Pclass_2', 'Pclass_3', 'Sex_male'\n",
    "feature_columns = ['Pclass_2', 'Pclass_3', 'Sex_male', 'Age', 'SibSp', 'Parch', 'Fare']\n",
    "x = df[feature_columns]\n",
    "\n",
    "xtrain, xtest, ytrain, ytest = train_test_split(x, y, random_state=10)\n"
   ]
  },
  {
   "cell_type": "code",
   "execution_count": 94,
   "metadata": {},
   "outputs": [],
   "source": [
    "m = MLPClassifier(max_iter=1000).fit(xtrain, ytrain)"
   ]
  },
  {
   "cell_type": "code",
   "execution_count": 95,
   "metadata": {},
   "outputs": [
    {
     "data": {
      "text/plain": [
       "{'activation': 'relu',\n",
       " 'alpha': 0.0001,\n",
       " 'batch_size': 'auto',\n",
       " 'beta_1': 0.9,\n",
       " 'beta_2': 0.999,\n",
       " 'early_stopping': False,\n",
       " 'epsilon': 1e-08,\n",
       " 'hidden_layer_sizes': (100,),\n",
       " 'learning_rate': 'constant',\n",
       " 'learning_rate_init': 0.001,\n",
       " 'max_fun': 15000,\n",
       " 'max_iter': 200,\n",
       " 'momentum': 0.9,\n",
       " 'n_iter_no_change': 10,\n",
       " 'nesterovs_momentum': True,\n",
       " 'power_t': 0.5,\n",
       " 'random_state': None,\n",
       " 'shuffle': True,\n",
       " 'solver': 'adam',\n",
       " 'tol': 0.0001,\n",
       " 'validation_fraction': 0.1,\n",
       " 'verbose': False,\n",
       " 'warm_start': False}"
      ]
     },
     "execution_count": 95,
     "metadata": {},
     "output_type": "execute_result"
    }
   ],
   "source": [
    "MLPClassifier().get_params()"
   ]
  },
  {
   "cell_type": "code",
   "execution_count": 96,
   "metadata": {},
   "outputs": [
    {
     "name": "stdout",
     "output_type": "stream",
     "text": [
      "0.8156424581005587\n"
     ]
    }
   ],
   "source": [
    "pred = m.predict(xtest)\n",
    "print(metrics.accuracy_score(ytest, pred))"
   ]
  },
  {
   "cell_type": "code",
   "execution_count": 97,
   "metadata": {},
   "outputs": [
    {
     "name": "stdout",
     "output_type": "stream",
     "text": [
      "[[91 12]\n",
      " [21 55]]\n"
     ]
    }
   ],
   "source": [
    "print(metrics.confusion_matrix(ytest, pred))"
   ]
  },
  {
   "cell_type": "code",
   "execution_count": 98,
   "metadata": {},
   "outputs": [
    {
     "name": "stdout",
     "output_type": "stream",
     "text": [
      "              precision    recall  f1-score   support\n",
      "\n",
      "           0       0.81      0.88      0.85       103\n",
      "           1       0.82      0.72      0.77        76\n",
      "\n",
      "    accuracy                           0.82       179\n",
      "   macro avg       0.82      0.80      0.81       179\n",
      "weighted avg       0.82      0.82      0.81       179\n",
      "\n"
     ]
    }
   ],
   "source": [
    "print(metrics.classification_report(ytest, pred))"
   ]
  },
  {
   "cell_type": "code",
   "execution_count": 99,
   "metadata": {},
   "outputs": [
    {
     "name": "stdout",
     "output_type": "stream",
     "text": [
      "Accuracy 0.8156424581005587\n",
      "Precision 0.8156424581005587\n",
      "Recall 0.7236842105263158\n",
      "F1 Score 0.7692307692307693\n"
     ]
    }
   ],
   "source": [
    "# alternative\n",
    "\n",
    "print('Accuracy', metrics.accuracy_score(ytest, pred))\n",
    "print('Precision', metrics.accuracy_score(ytest, pred))\n",
    "print('Recall', metrics.recall_score(ytest, pred))\n",
    "print('F1 Score', metrics.f1_score(ytest,pred))\n"
   ]
  },
  {
   "cell_type": "code",
   "execution_count": 100,
   "metadata": {},
   "outputs": [],
   "source": [
    "import joblib\n",
    "from sklearn.model_selection import GridSearchCV"
   ]
  },
  {
   "cell_type": "code",
   "execution_count": 102,
   "metadata": {},
   "outputs": [],
   "source": [
    "def best(result):\n",
    "    print('Best parameters: {}\\n'.format(result.best_params_))\n",
    "    mean = result.cv_results_['mean_test_score']\n",
    "    sd = result.cv_results_['std_test_score']\n",
    "    for m, s, p in zip(mean, sd, result.cv_results_['params']):\n",
    "        print('{} (+/- {}) for {}'.format(m, s*2, p))\n",
    "\n",
    "# Call the function with your result object\n",
    "# best(your_result_object)\n"
   ]
  },
  {
   "cell_type": "code",
   "execution_count": 104,
   "metadata": {},
   "outputs": [
    {
     "name": "stdout",
     "output_type": "stream",
     "text": [
      "Best parameters: {'activation': 'logistic', 'hidden_layer_sizes': (18,), 'learning_rate': 'invscaling'}\n",
      "\n",
      "0.7626168224299065 (+/- 0.05365495362395262) for {'activation': 'relu', 'hidden_layer_sizes': (18,), 'learning_rate': 'constant'}\n",
      "0.7906542056074767 (+/- 0.048164855053178045) for {'activation': 'relu', 'hidden_layer_sizes': (18,), 'learning_rate': 'invscaling'}\n",
      "0.7775700934579439 (+/- 0.03624433538255199) for {'activation': 'relu', 'hidden_layer_sizes': (18,), 'learning_rate': 'adaptive'}\n",
      "0.7794392523364484 (+/- 0.05098385681116209) for {'activation': 'relu', 'hidden_layer_sizes': (20,), 'learning_rate': 'constant'}\n",
      "0.7887850467289719 (+/- 0.03466773269344189) for {'activation': 'relu', 'hidden_layer_sizes': (20,), 'learning_rate': 'invscaling'}\n",
      "0.794392523364486 (+/- 0.04728639491840568) for {'activation': 'relu', 'hidden_layer_sizes': (20,), 'learning_rate': 'adaptive'}\n",
      "0.7757009345794392 (+/- 0.05544821298763113) for {'activation': 'relu', 'hidden_layer_sizes': (30,), 'learning_rate': 'constant'}\n",
      "0.7850467289719625 (+/- 0.03920780740822997) for {'activation': 'relu', 'hidden_layer_sizes': (30,), 'learning_rate': 'invscaling'}\n",
      "0.7850467289719625 (+/- 0.04262338037753787) for {'activation': 'relu', 'hidden_layer_sizes': (30,), 'learning_rate': 'adaptive'}\n",
      "0.8 (+/- 0.04196251274886664) for {'activation': 'tanh', 'hidden_layer_sizes': (18,), 'learning_rate': 'constant'}\n",
      "0.7981308411214952 (+/- 0.059813084112149535) for {'activation': 'tanh', 'hidden_layer_sizes': (18,), 'learning_rate': 'invscaling'}\n",
      "0.7981308411214952 (+/- 0.05981308411214954) for {'activation': 'tanh', 'hidden_layer_sizes': (18,), 'learning_rate': 'adaptive'}\n",
      "0.7999999999999999 (+/- 0.05981308411214954) for {'activation': 'tanh', 'hidden_layer_sizes': (20,), 'learning_rate': 'constant'}\n",
      "0.8018691588785046 (+/- 0.06933546538688377) for {'activation': 'tanh', 'hidden_layer_sizes': (20,), 'learning_rate': 'invscaling'}\n",
      "0.7981308411214953 (+/- 0.036627884004234446) for {'activation': 'tanh', 'hidden_layer_sizes': (20,), 'learning_rate': 'adaptive'}\n",
      "0.794392523364486 (+/- 0.03738317757009346) for {'activation': 'tanh', 'hidden_layer_sizes': (30,), 'learning_rate': 'constant'}\n",
      "0.7850467289719625 (+/- 0.06993752124811106) for {'activation': 'tanh', 'hidden_layer_sizes': (30,), 'learning_rate': 'invscaling'}\n",
      "0.8018691588785046 (+/- 0.03812351038200213) for {'activation': 'tanh', 'hidden_layer_sizes': (30,), 'learning_rate': 'adaptive'}\n",
      "0.7981308411214952 (+/- 0.04959438938849197) for {'activation': 'logistic', 'hidden_layer_sizes': (18,), 'learning_rate': 'constant'}\n",
      "0.8074766355140186 (+/- 0.032589898643294764) for {'activation': 'logistic', 'hidden_layer_sizes': (18,), 'learning_rate': 'invscaling'}\n",
      "0.7887850467289719 (+/- 0.05098385681116209) for {'activation': 'logistic', 'hidden_layer_sizes': (18,), 'learning_rate': 'adaptive'}\n",
      "0.8037383177570092 (+/- 0.04262338037753787) for {'activation': 'logistic', 'hidden_layer_sizes': (20,), 'learning_rate': 'constant'}\n",
      "0.8037383177570092 (+/- 0.04262338037753787) for {'activation': 'logistic', 'hidden_layer_sizes': (20,), 'learning_rate': 'invscaling'}\n",
      "0.7981308411214952 (+/- 0.045170265321848875) for {'activation': 'logistic', 'hidden_layer_sizes': (20,), 'learning_rate': 'adaptive'}\n",
      "0.8074766355140186 (+/- 0.05098385681116208) for {'activation': 'logistic', 'hidden_layer_sizes': (30,), 'learning_rate': 'constant'}\n",
      "0.7981308411214953 (+/- 0.04959438938849197) for {'activation': 'logistic', 'hidden_layer_sizes': (30,), 'learning_rate': 'invscaling'}\n",
      "0.805607476635514 (+/- 0.06188016955980131) for {'activation': 'logistic', 'hidden_layer_sizes': (30,), 'learning_rate': 'adaptive'}\n"
     ]
    },
    {
     "name": "stderr",
     "output_type": "stream",
     "text": [
      "/home/dks/.local/lib/python3.10/site-packages/sklearn/neural_network/_multilayer_perceptron.py:691: ConvergenceWarning: Stochastic Optimizer: Maximum iterations (1000) reached and the optimization hasn't converged yet.\n",
      "  warnings.warn(\n"
     ]
    }
   ],
   "source": [
    "parameters = {\n",
    "    'hidden_layer_sizes': [(18,), (20,), (30,)],\n",
    "    'activation': ['relu', 'tanh', 'logistic'],\n",
    "    'learning_rate': ['constant', 'invscaling', 'adaptive']\n",
    "}\n",
    "\n",
    "cv = GridSearchCV(m, parameters, cv=5)\n",
    "cv.fit(xtrain, ytrain)\n",
    "best(cv)\n"
   ]
  },
  {
   "cell_type": "code",
   "execution_count": 105,
   "metadata": {},
   "outputs": [
    {
     "data": {
      "text/html": [
       "<style>#sk-container-id-1 {color: black;}#sk-container-id-1 pre{padding: 0;}#sk-container-id-1 div.sk-toggleable {background-color: white;}#sk-container-id-1 label.sk-toggleable__label {cursor: pointer;display: block;width: 100%;margin-bottom: 0;padding: 0.3em;box-sizing: border-box;text-align: center;}#sk-container-id-1 label.sk-toggleable__label-arrow:before {content: \"▸\";float: left;margin-right: 0.25em;color: #696969;}#sk-container-id-1 label.sk-toggleable__label-arrow:hover:before {color: black;}#sk-container-id-1 div.sk-estimator:hover label.sk-toggleable__label-arrow:before {color: black;}#sk-container-id-1 div.sk-toggleable__content {max-height: 0;max-width: 0;overflow: hidden;text-align: left;background-color: #f0f8ff;}#sk-container-id-1 div.sk-toggleable__content pre {margin: 0.2em;color: black;border-radius: 0.25em;background-color: #f0f8ff;}#sk-container-id-1 input.sk-toggleable__control:checked~div.sk-toggleable__content {max-height: 200px;max-width: 100%;overflow: auto;}#sk-container-id-1 input.sk-toggleable__control:checked~label.sk-toggleable__label-arrow:before {content: \"▾\";}#sk-container-id-1 div.sk-estimator input.sk-toggleable__control:checked~label.sk-toggleable__label {background-color: #d4ebff;}#sk-container-id-1 div.sk-label input.sk-toggleable__control:checked~label.sk-toggleable__label {background-color: #d4ebff;}#sk-container-id-1 input.sk-hidden--visually {border: 0;clip: rect(1px 1px 1px 1px);clip: rect(1px, 1px, 1px, 1px);height: 1px;margin: -1px;overflow: hidden;padding: 0;position: absolute;width: 1px;}#sk-container-id-1 div.sk-estimator {font-family: monospace;background-color: #f0f8ff;border: 1px dotted black;border-radius: 0.25em;box-sizing: border-box;margin-bottom: 0.5em;}#sk-container-id-1 div.sk-estimator:hover {background-color: #d4ebff;}#sk-container-id-1 div.sk-parallel-item::after {content: \"\";width: 100%;border-bottom: 1px solid gray;flex-grow: 1;}#sk-container-id-1 div.sk-label:hover label.sk-toggleable__label {background-color: #d4ebff;}#sk-container-id-1 div.sk-serial::before {content: \"\";position: absolute;border-left: 1px solid gray;box-sizing: border-box;top: 0;bottom: 0;left: 50%;z-index: 0;}#sk-container-id-1 div.sk-serial {display: flex;flex-direction: column;align-items: center;background-color: white;padding-right: 0.2em;padding-left: 0.2em;position: relative;}#sk-container-id-1 div.sk-item {position: relative;z-index: 1;}#sk-container-id-1 div.sk-parallel {display: flex;align-items: stretch;justify-content: center;background-color: white;position: relative;}#sk-container-id-1 div.sk-item::before, #sk-container-id-1 div.sk-parallel-item::before {content: \"\";position: absolute;border-left: 1px solid gray;box-sizing: border-box;top: 0;bottom: 0;left: 50%;z-index: -1;}#sk-container-id-1 div.sk-parallel-item {display: flex;flex-direction: column;z-index: 1;position: relative;background-color: white;}#sk-container-id-1 div.sk-parallel-item:first-child::after {align-self: flex-end;width: 50%;}#sk-container-id-1 div.sk-parallel-item:last-child::after {align-self: flex-start;width: 50%;}#sk-container-id-1 div.sk-parallel-item:only-child::after {width: 0;}#sk-container-id-1 div.sk-dashed-wrapped {border: 1px dashed gray;margin: 0 0.4em 0.5em 0.4em;box-sizing: border-box;padding-bottom: 0.4em;background-color: white;}#sk-container-id-1 div.sk-label label {font-family: monospace;font-weight: bold;display: inline-block;line-height: 1.2em;}#sk-container-id-1 div.sk-label-container {text-align: center;}#sk-container-id-1 div.sk-container {/* jupyter's `normalize.less` sets `[hidden] { display: none; }` but bootstrap.min.css set `[hidden] { display: none !important; }` so we also need the `!important` here to be able to override the default hidden behavior on the sphinx rendered scikit-learn.org. See: https://github.com/scikit-learn/scikit-learn/issues/21755 */display: inline-block !important;position: relative;}#sk-container-id-1 div.sk-text-repr-fallback {display: none;}</style><div id=\"sk-container-id-1\" class=\"sk-top-container\"><div class=\"sk-text-repr-fallback\"><pre>MLPClassifier(activation=&#x27;logistic&#x27;, hidden_layer_sizes=(18,),\n",
       "              learning_rate=&#x27;invscaling&#x27;, max_iter=1000)</pre><b>In a Jupyter environment, please rerun this cell to show the HTML representation or trust the notebook. <br />On GitHub, the HTML representation is unable to render, please try loading this page with nbviewer.org.</b></div><div class=\"sk-container\" hidden><div class=\"sk-item\"><div class=\"sk-estimator sk-toggleable\"><input class=\"sk-toggleable__control sk-hidden--visually\" id=\"sk-estimator-id-1\" type=\"checkbox\" checked><label for=\"sk-estimator-id-1\" class=\"sk-toggleable__label sk-toggleable__label-arrow\">MLPClassifier</label><div class=\"sk-toggleable__content\"><pre>MLPClassifier(activation=&#x27;logistic&#x27;, hidden_layer_sizes=(18,),\n",
       "              learning_rate=&#x27;invscaling&#x27;, max_iter=1000)</pre></div></div></div></div></div>"
      ],
      "text/plain": [
       "MLPClassifier(activation='logistic', hidden_layer_sizes=(18,),\n",
       "              learning_rate='invscaling', max_iter=1000)"
      ]
     },
     "execution_count": 105,
     "metadata": {},
     "output_type": "execute_result"
    }
   ],
   "source": [
    "cv.best_estimator_"
   ]
  },
  {
   "cell_type": "code",
   "execution_count": 106,
   "metadata": {},
   "outputs": [
    {
     "data": {
      "text/html": [
       "<div>\n",
       "<style scoped>\n",
       "    .dataframe tbody tr th:only-of-type {\n",
       "        vertical-align: middle;\n",
       "    }\n",
       "\n",
       "    .dataframe tbody tr th {\n",
       "        vertical-align: top;\n",
       "    }\n",
       "\n",
       "    .dataframe thead th {\n",
       "        text-align: right;\n",
       "    }\n",
       "</style>\n",
       "<table border=\"1\" class=\"dataframe\">\n",
       "  <thead>\n",
       "    <tr style=\"text-align: right;\">\n",
       "      <th></th>\n",
       "      <th>PassengerId</th>\n",
       "      <th>Survived</th>\n",
       "    </tr>\n",
       "  </thead>\n",
       "  <tbody>\n",
       "    <tr>\n",
       "      <th>0</th>\n",
       "      <td>892</td>\n",
       "      <td>0</td>\n",
       "    </tr>\n",
       "    <tr>\n",
       "      <th>1</th>\n",
       "      <td>893</td>\n",
       "      <td>1</td>\n",
       "    </tr>\n",
       "    <tr>\n",
       "      <th>2</th>\n",
       "      <td>894</td>\n",
       "      <td>0</td>\n",
       "    </tr>\n",
       "    <tr>\n",
       "      <th>3</th>\n",
       "      <td>895</td>\n",
       "      <td>0</td>\n",
       "    </tr>\n",
       "    <tr>\n",
       "      <th>4</th>\n",
       "      <td>896</td>\n",
       "      <td>1</td>\n",
       "    </tr>\n",
       "  </tbody>\n",
       "</table>\n",
       "</div>"
      ],
      "text/plain": [
       "   PassengerId  Survived\n",
       "0          892         0\n",
       "1          893         1\n",
       "2          894         0\n",
       "3          895         0\n",
       "4          896         1"
      ]
     },
     "execution_count": 106,
     "metadata": {},
     "output_type": "execute_result"
    }
   ],
   "source": [
    "df = pd.read_csv('./gender_submission.csv')\n",
    "df.head()"
   ]
  },
  {
   "cell_type": "code",
   "execution_count": 108,
   "metadata": {},
   "outputs": [
    {
     "name": "stdout",
     "output_type": "stream",
     "text": [
      "Index(['PassengerId', 'Survived'], dtype='object')\n"
     ]
    }
   ],
   "source": [
    "print(df.columns)\n"
   ]
  },
  {
   "cell_type": "code",
   "execution_count": 109,
   "metadata": {},
   "outputs": [],
   "source": [
    "y = df['Survived']\n",
    "x = df.drop(['Survived'], axis=1)  # Drop 'Survived' column from features\n",
    "\n",
    "xtrain, xtest, ytrain, ytest = train_test_split(x, y)\n"
   ]
  },
  {
   "cell_type": "code",
   "execution_count": 110,
   "metadata": {},
   "outputs": [],
   "source": [
    "m1 = MLPRegressor(max_iter=1000).fit(xtrain, ytrain)"
   ]
  },
  {
   "cell_type": "code",
   "execution_count": 111,
   "metadata": {},
   "outputs": [
    {
     "data": {
      "text/plain": [
       "64.46609043391236"
      ]
     },
     "execution_count": 111,
     "metadata": {},
     "output_type": "execute_result"
    }
   ],
   "source": [
    "pred = m1.predict(xtest)\n",
    "metrics.mean_squared_error(pred, ytest)\n"
   ]
  },
  {
   "cell_type": "code",
   "execution_count": null,
   "metadata": {},
   "outputs": [],
   "source": []
  }
 ],
 "metadata": {
  "kernelspec": {
   "display_name": "Python 3",
   "language": "python",
   "name": "python3"
  },
  "language_info": {
   "codemirror_mode": {
    "name": "ipython",
    "version": 3
   },
   "file_extension": ".py",
   "mimetype": "text/x-python",
   "name": "python",
   "nbconvert_exporter": "python",
   "pygments_lexer": "ipython3",
   "version": "3.10.12"
  },
  "orig_nbformat": 4
 },
 "nbformat": 4,
 "nbformat_minor": 2
}
